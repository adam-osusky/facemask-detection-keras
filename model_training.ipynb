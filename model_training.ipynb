{
 "cells": [
  {
   "cell_type": "markdown",
   "metadata": {},
   "source": [
    "# Model training - MobileNetV2"
   ]
  },
  {
   "cell_type": "markdown",
   "metadata": {},
   "source": [
    "This notebook implements an artificial neural network for facemask detection. The MobileNetV2 architecture was used as a basis for our model. For faster training and ability to perform well without a huge dataset is used transfer learning method. The MobileNetV2 basis will be pretrained."
   ]
  },
  {
   "cell_type": "markdown",
   "metadata": {},
   "source": [
    "The libraries for this project:"
   ]
  },
  {
   "cell_type": "code",
   "execution_count": null,
   "metadata": {},
   "outputs": [],
   "source": [
    "import tensorflow as tf\n",
    "from tensorflow import keras\n",
    "import numpy as np\n",
    "from tensorflow.keras.preprocessing.image import ImageDataGenerator\n",
    "from tensorflow.keras.callbacks import ModelCheckpoint\n",
    "from matplotlib import pyplot as plt"
   ]
  },
  {
   "cell_type": "markdown",
   "metadata": {},
   "source": [
    "## Data Preprocessing\n",
    "ImageDataGenerator provides convenient way to do it.\n",
    "MobileNetV2 architecture is expecting 224x224 input shape. Normalizing the pixel values. Also some data augmentation for more efficient trainning. ImageDataGenerator needs directory with two folders, one with positive classification (people with masks images) and one with negative classification."
   ]
  },
  {
   "cell_type": "code",
   "execution_count": null,
   "metadata": {},
   "outputs": [],
   "source": [
    "training_dir = 'dataset' # path to directory with training examples\n",
    "testing_dir = 'test_data' # path to directory with testing examples\n",
    "val_dir = 'improving/val_data' # path to directory with validation examples\n",
    "\n",
    "train_datagen = ImageDataGenerator(\n",
    "    rescale=1 / 255,\n",
    "    rotation_range=40,\n",
    "    width_shift_range=.2, \n",
    "    height_shift_range=.2, \n",
    "    shear_range=.2,\n",
    "    zoom_range=.2,\n",
    "    horizontal_flip=True,\n",
    "    fill_mode='nearest'\n",
    ")\n",
    "train_generator = train_datagen.flow_from_directory(\n",
    "    training_dir,\n",
    "    batch_size=64,\n",
    "    class_mode='categorical',\n",
    "    target_size=(224, 224)\n",
    ")\n",
    "\n",
    "test_datagen = ImageDataGenerator(rescale = 1./255)\n",
    "test_generator = test_datagen.flow_from_directory(\n",
    "   testing_dir,\n",
    "   target_size=(224, 224),\n",
    "   class_mode='categorical',\n",
    "   batch_size=64\n",
    ")\n",
    "\n",
    "validation_datagen = ImageDataGenerator(rescale = 1./255)\n",
    "validation_generator = validation_datagen.flow_from_directory(\n",
    "   val_dir,\n",
    "   target_size=(224, 224),\n",
    "   class_mode='categorical',\n",
    "   batch_size=64\n",
    ")\n",
    "\n"
   ]
  },
  {
   "cell_type": "markdown",
   "metadata": {},
   "source": [
    "## Model creation \n",
    "Pretrained MobileNetV2 on ImageNet dataset without the top will be a foundation. We will create our own top classifier."
   ]
  },
  {
   "cell_type": "code",
   "execution_count": null,
   "metadata": {},
   "outputs": [],
   "source": [
    "mobilenet = tf.keras.applications.MobileNetV2(\n",
    "    input_shape = [224, 224, 3], include_top=False, weights='imagenet')\n",
    "\n",
    "#freezing the MobileNetV2 layers\n",
    "for layer in mobilenet.layers:\n",
    "    layer.trainable = False\n",
    "\n",
    "#creating top\n",
    "top = mobilenet.output\n",
    "top = tf.keras.layers.AveragePooling2D((7,7))(top)\n",
    "top = tf.keras.layers.Flatten()(top)\n",
    "top = tf.keras.layers.Dense(200,activation = 'relu')(top)\n",
    "top = tf.keras.layers.Dropout(0.5)(top)\n",
    "top = tf.keras.layers.Dense(2,activation = 'softmax')(top)\n",
    "model = tf.keras.models.Model(inputs = mobilenet.inputs, outputs = top)"
   ]
  },
  {
   "cell_type": "code",
   "execution_count": null,
   "metadata": {
    "scrolled": true
   },
   "outputs": [],
   "source": [
    "model.summary()"
   ]
  },
  {
   "cell_type": "code",
   "execution_count": null,
   "metadata": {},
   "outputs": [],
   "source": [
    "model.compile(loss = 'categorical_crossentropy', optimizer='adam', metrics=['accuracy'])"
   ]
  },
  {
   "cell_type": "markdown",
   "metadata": {},
   "source": [
    "## Fitting the model"
   ]
  },
  {
   "cell_type": "code",
   "execution_count": null,
   "metadata": {},
   "outputs": [],
   "source": [
    "history = model.fit(train_generator, epochs=10, validation_data = validation_generator, verbose = 1,callbacks=[])"
   ]
  },
  {
   "cell_type": "markdown",
   "metadata": {},
   "source": [
    "Graphs for further analysis "
   ]
  },
  {
   "cell_type": "code",
   "execution_count": null,
   "metadata": {},
   "outputs": [],
   "source": [
    "from matplotlib import pyplot as plt\n",
    "\n",
    "plt.plot(range(1,11), history.history['loss'],'r',label='loss function')\n",
    "plt.xlabel('number of epochs')\n",
    "plt.ylabel('loss function')\n",
    "plt.show()"
   ]
  },
  {
   "cell_type": "code",
   "execution_count": null,
   "metadata": {},
   "outputs": [],
   "source": [
    "plt.plot(range(1,11),history.history['accuracy'],'r',label='accuracy')\n",
    "plt.plot(range(1,11),history.history['val_accuracy'],'blue',label='val_accuracy')\n",
    "plt.xlabel('number of epochs')\n",
    "plt.ylabel('accuracy')\n",
    "plt.legend()\n",
    "plt.show()"
   ]
  },
  {
   "cell_type": "markdown",
   "metadata": {},
   "source": [
    "## Evaluation on test data"
   ]
  },
  {
   "cell_type": "code",
   "execution_count": null,
   "metadata": {},
   "outputs": [],
   "source": [
    "model.evaluate(test_generator)"
   ]
  },
  {
   "cell_type": "markdown",
   "metadata": {},
   "source": [
    "Saving the trained model"
   ]
  },
  {
   "cell_type": "code",
   "execution_count": null,
   "metadata": {},
   "outputs": [],
   "source": [
    "model.save('name_of_the_model')"
   ]
  }
 ],
 "metadata": {
  "kernelspec": {
   "display_name": "Python 3",
   "language": "python",
   "name": "python3"
  },
  "language_info": {
   "codemirror_mode": {
    "name": "ipython",
    "version": 3
   },
   "file_extension": ".py",
   "mimetype": "text/x-python",
   "name": "python",
   "nbconvert_exporter": "python",
   "pygments_lexer": "ipython3",
   "version": "3.7.6"
  }
 },
 "nbformat": 4,
 "nbformat_minor": 4
}
