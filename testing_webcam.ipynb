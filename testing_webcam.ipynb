{
 "cells": [
  {
   "cell_type": "markdown",
   "metadata": {},
   "source": [
    "# Face Mask Detection"
   ]
  },
  {
   "cell_type": "code",
   "execution_count": 1,
   "metadata": {},
   "outputs": [],
   "source": [
    "import tensorflow as tf\n",
    "from tensorflow import keras\n",
    "import cv2\n",
    "import numpy as np"
   ]
  },
  {
   "cell_type": "code",
   "execution_count": 2,
   "metadata": {},
   "outputs": [],
   "source": [
    "model = tf.keras.models.load_model('trained_model')"
   ]
  },
  {
   "cell_type": "code",
   "execution_count": 3,
   "metadata": {},
   "outputs": [],
   "source": [
    "face_clsfr = cv2.CascadeClassifier('haarcascade_frontalface_default.xml')"
   ]
  },
  {
   "cell_type": "code",
   "execution_count": 4,
   "metadata": {},
   "outputs": [],
   "source": [
    "labels = {0:' WITH MASK', 1:'WITHOUT MASK'}\n",
    "colors = {0:(0,255,0),1:(0,0,255)}"
   ]
  },
  {
   "cell_type": "code",
   "execution_count": 5,
   "metadata": {},
   "outputs": [],
   "source": [
    "source = cv2.VideoCapture(0) # 0 is defeault camera\n",
    "\n",
    "while True:\n",
    "    ret, frame = source.read()\n",
    "    if ret==True:\n",
    "        gray = cv2.cvtColor(frame, cv2.COLOR_BGR2GRAY)\n",
    "        face_coordinations = face_clsfr.detectMultiScale(\n",
    "        gray,\n",
    "        scaleFactor=1.3,\n",
    "        minNeighbors=8,\n",
    "        minSize=(10, 10))\n",
    "        \n",
    "        for (x,y,w,h) in face_coordinations:\n",
    "            img = frame[y:y+h,x:x+w,:]\n",
    "            resized = cv2.resize(img,(224, 224))\n",
    "            normalized = resized/255.0\n",
    "            reshaped = np.reshape(normalized,(1,224, 224, 3))\n",
    "            out = model.predict(reshaped)\n",
    "            label = np.argmax(out)\n",
    "            cv2.rectangle(frame, (x,y),(x+w,y+h), colors[label],3)\n",
    "            cv2.rectangle(frame, (x,y-35),(x+w,y), colors[label],-1)\n",
    "            cv2.putText(frame, labels[label], (x, y-10),cv2.FONT_HERSHEY_SIMPLEX ,0.85,(255,255,255),2)\n",
    "        #to stop the program press q\n",
    "        cv2.imshow('facemask-detection',frame)\n",
    "        if cv2.waitKey(1) & 0xFF == ord('q'):\n",
    "            break\n",
    "\n",
    "    else:\n",
    "        break\n",
    "        \n",
    "cv2.destroyAllWindows()\n",
    "source.release()"
   ]
  },
  {
   "cell_type": "code",
   "execution_count": null,
   "metadata": {},
   "outputs": [],
   "source": []
  }
 ],
 "metadata": {
  "kernelspec": {
   "display_name": "Python 3",
   "language": "python",
   "name": "python3"
  },
  "language_info": {
   "codemirror_mode": {
    "name": "ipython",
    "version": 3
   },
   "file_extension": ".py",
   "mimetype": "text/x-python",
   "name": "python",
   "nbconvert_exporter": "python",
   "pygments_lexer": "ipython3",
   "version": "3.7.6"
  }
 },
 "nbformat": 4,
 "nbformat_minor": 4
}
